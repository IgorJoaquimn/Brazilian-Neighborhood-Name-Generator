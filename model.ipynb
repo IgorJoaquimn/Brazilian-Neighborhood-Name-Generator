{
 "cells": [
  {
   "cell_type": "code",
   "execution_count": 290,
   "metadata": {},
   "outputs": [],
   "source": [
    "import torch"
   ]
  },
  {
   "cell_type": "code",
   "execution_count": 291,
   "metadata": {},
   "outputs": [],
   "source": [
    "import pandas as pd\n",
    "import numpy as np\n",
    "import seaborn as sns\n",
    "import random"
   ]
  },
  {
   "cell_type": "code",
   "execution_count": 292,
   "metadata": {},
   "outputs": [
    {
     "name": "stdout",
     "output_type": "stream",
     "text": [
      "Using cuda device\n"
     ]
    }
   ],
   "source": [
    "device = (\n",
    "    \"cuda\"\n",
    "    if torch.cuda.is_available()\n",
    "    else \"mps\"\n",
    "    if torch.backends.mps.is_available()\n",
    "    else \"cpu\"\n",
    ")\n",
    "print(f\"Using {device} device\")"
   ]
  },
  {
   "cell_type": "code",
   "execution_count": 293,
   "metadata": {},
   "outputs": [
    {
     "data": {
      "text/html": [
       "<div>\n",
       "<style scoped>\n",
       "    .dataframe tbody tr th:only-of-type {\n",
       "        vertical-align: middle;\n",
       "    }\n",
       "\n",
       "    .dataframe tbody tr th {\n",
       "        vertical-align: top;\n",
       "    }\n",
       "\n",
       "    .dataframe thead th {\n",
       "        text-align: right;\n",
       "    }\n",
       "</style>\n",
       "<table border=\"1\" class=\"dataframe\">\n",
       "  <thead>\n",
       "    <tr style=\"text-align: right;\">\n",
       "      <th></th>\n",
       "      <th>Id</th>\n",
       "      <th>Codigo</th>\n",
       "      <th>Nome</th>\n",
       "      <th>Uf</th>\n",
       "    </tr>\n",
       "  </thead>\n",
       "  <tbody>\n",
       "    <tr>\n",
       "      <th>0</th>\n",
       "      <td>1</td>\n",
       "      <td>1100015001</td>\n",
       "      <td>Centro - Alta Floresta D'Oeste</td>\n",
       "      <td>RO</td>\n",
       "    </tr>\n",
       "    <tr>\n",
       "      <th>1</th>\n",
       "      <td>2</td>\n",
       "      <td>1100015002</td>\n",
       "      <td>Liberdade - Alta Floresta D'Oeste</td>\n",
       "      <td>RO</td>\n",
       "    </tr>\n",
       "    <tr>\n",
       "      <th>2</th>\n",
       "      <td>3</td>\n",
       "      <td>1100015003</td>\n",
       "      <td>Cidade Alta - Alta Floresta D'Oeste</td>\n",
       "      <td>RO</td>\n",
       "    </tr>\n",
       "    <tr>\n",
       "      <th>3</th>\n",
       "      <td>4</td>\n",
       "      <td>1100015004</td>\n",
       "      <td>Santa Felicidade - Alta Floresta D'Oeste</td>\n",
       "      <td>RO</td>\n",
       "    </tr>\n",
       "    <tr>\n",
       "      <th>4</th>\n",
       "      <td>5</td>\n",
       "      <td>1100015005</td>\n",
       "      <td>Princesa Isabel - Alta Floresta D'Oeste</td>\n",
       "      <td>RO</td>\n",
       "    </tr>\n",
       "    <tr>\n",
       "      <th>...</th>\n",
       "      <td>...</td>\n",
       "      <td>...</td>\n",
       "      <td>...</td>\n",
       "      <td>...</td>\n",
       "    </tr>\n",
       "    <tr>\n",
       "      <th>14315</th>\n",
       "      <td>14316</td>\n",
       "      <td>5218300009</td>\n",
       "      <td>Setor Mãe Bela - Posse</td>\n",
       "      <td>GO</td>\n",
       "    </tr>\n",
       "    <tr>\n",
       "      <th>14316</th>\n",
       "      <td>14317</td>\n",
       "      <td>5218300010</td>\n",
       "      <td>Setor Buenos Aires - Posse</td>\n",
       "      <td>GO</td>\n",
       "    </tr>\n",
       "    <tr>\n",
       "      <th>14317</th>\n",
       "      <td>14318</td>\n",
       "      <td>5218300011</td>\n",
       "      <td>Cafelândios - Posse</td>\n",
       "      <td>GO</td>\n",
       "    </tr>\n",
       "    <tr>\n",
       "      <th>14318</th>\n",
       "      <td>14319</td>\n",
       "      <td>5218300012</td>\n",
       "      <td>Vale do Amanhecer - Posse</td>\n",
       "      <td>GO</td>\n",
       "    </tr>\n",
       "    <tr>\n",
       "      <th>14319</th>\n",
       "      <td>14320</td>\n",
       "      <td>5218300013</td>\n",
       "      <td>Vila São José - Posse</td>\n",
       "      <td>GO</td>\n",
       "    </tr>\n",
       "  </tbody>\n",
       "</table>\n",
       "<p>14320 rows × 4 columns</p>\n",
       "</div>"
      ],
      "text/plain": [
       "          Id      Codigo                                      Nome  Uf\n",
       "0          1  1100015001            Centro - Alta Floresta D'Oeste  RO\n",
       "1          2  1100015002         Liberdade - Alta Floresta D'Oeste  RO\n",
       "2          3  1100015003       Cidade Alta - Alta Floresta D'Oeste  RO\n",
       "3          4  1100015004  Santa Felicidade - Alta Floresta D'Oeste  RO\n",
       "4          5  1100015005   Princesa Isabel - Alta Floresta D'Oeste  RO\n",
       "...      ...         ...                                       ...  ..\n",
       "14315  14316  5218300009                    Setor Mãe Bela - Posse  GO\n",
       "14316  14317  5218300010                Setor Buenos Aires - Posse  GO\n",
       "14317  14318  5218300011                       Cafelândios - Posse  GO\n",
       "14318  14319  5218300012                 Vale do Amanhecer - Posse  GO\n",
       "14319  14320  5218300013                     Vila São José - Posse  GO\n",
       "\n",
       "[14320 rows x 4 columns]"
      ]
     },
     "execution_count": 293,
     "metadata": {},
     "output_type": "execute_result"
    }
   ],
   "source": [
    "bairros = pd.read_csv(\"https://raw.githubusercontent.com/chandez/Estados-Cidades-IBGE/master/csv/bairros.csv\")\n",
    "bairros"
   ]
  },
  {
   "cell_type": "code",
   "execution_count": 294,
   "metadata": {},
   "outputs": [
    {
     "data": {
      "text/html": [
       "<div>\n",
       "<style scoped>\n",
       "    .dataframe tbody tr th:only-of-type {\n",
       "        vertical-align: middle;\n",
       "    }\n",
       "\n",
       "    .dataframe tbody tr th {\n",
       "        vertical-align: top;\n",
       "    }\n",
       "\n",
       "    .dataframe thead th {\n",
       "        text-align: right;\n",
       "    }\n",
       "</style>\n",
       "<table border=\"1\" class=\"dataframe\">\n",
       "  <thead>\n",
       "    <tr style=\"text-align: right;\">\n",
       "      <th></th>\n",
       "      <th>Id</th>\n",
       "      <th>Codigo</th>\n",
       "      <th>Nome</th>\n",
       "      <th>Uf</th>\n",
       "      <th>tokens</th>\n",
       "    </tr>\n",
       "  </thead>\n",
       "  <tbody>\n",
       "    <tr>\n",
       "      <th>0</th>\n",
       "      <td>1</td>\n",
       "      <td>1100015001</td>\n",
       "      <td>Centro - Alta Floresta D'Oeste</td>\n",
       "      <td>RO</td>\n",
       "      <td>[Centro, -, Alta, Floresta, D'Oeste]</td>\n",
       "    </tr>\n",
       "    <tr>\n",
       "      <th>1</th>\n",
       "      <td>2</td>\n",
       "      <td>1100015002</td>\n",
       "      <td>Liberdade - Alta Floresta D'Oeste</td>\n",
       "      <td>RO</td>\n",
       "      <td>[Liberdade, -, Alta, Floresta, D'Oeste]</td>\n",
       "    </tr>\n",
       "    <tr>\n",
       "      <th>2</th>\n",
       "      <td>3</td>\n",
       "      <td>1100015003</td>\n",
       "      <td>Cidade Alta - Alta Floresta D'Oeste</td>\n",
       "      <td>RO</td>\n",
       "      <td>[Cidade, Alta, -, Alta, Floresta, D'Oeste]</td>\n",
       "    </tr>\n",
       "    <tr>\n",
       "      <th>3</th>\n",
       "      <td>4</td>\n",
       "      <td>1100015004</td>\n",
       "      <td>Santa Felicidade - Alta Floresta D'Oeste</td>\n",
       "      <td>RO</td>\n",
       "      <td>[Santa, Felicidade, -, Alta, Floresta, D'Oeste]</td>\n",
       "    </tr>\n",
       "    <tr>\n",
       "      <th>4</th>\n",
       "      <td>5</td>\n",
       "      <td>1100015005</td>\n",
       "      <td>Princesa Isabel - Alta Floresta D'Oeste</td>\n",
       "      <td>RO</td>\n",
       "      <td>[Princesa, Isabel, -, Alta, Floresta, D'Oeste]</td>\n",
       "    </tr>\n",
       "    <tr>\n",
       "      <th>...</th>\n",
       "      <td>...</td>\n",
       "      <td>...</td>\n",
       "      <td>...</td>\n",
       "      <td>...</td>\n",
       "      <td>...</td>\n",
       "    </tr>\n",
       "    <tr>\n",
       "      <th>14315</th>\n",
       "      <td>14316</td>\n",
       "      <td>5218300009</td>\n",
       "      <td>Setor Mãe Bela - Posse</td>\n",
       "      <td>GO</td>\n",
       "      <td>[Setor, Mãe, Bela, -, Posse]</td>\n",
       "    </tr>\n",
       "    <tr>\n",
       "      <th>14316</th>\n",
       "      <td>14317</td>\n",
       "      <td>5218300010</td>\n",
       "      <td>Setor Buenos Aires - Posse</td>\n",
       "      <td>GO</td>\n",
       "      <td>[Setor, Buenos, Aires, -, Posse]</td>\n",
       "    </tr>\n",
       "    <tr>\n",
       "      <th>14317</th>\n",
       "      <td>14318</td>\n",
       "      <td>5218300011</td>\n",
       "      <td>Cafelândios - Posse</td>\n",
       "      <td>GO</td>\n",
       "      <td>[Cafelândios, -, Posse]</td>\n",
       "    </tr>\n",
       "    <tr>\n",
       "      <th>14318</th>\n",
       "      <td>14319</td>\n",
       "      <td>5218300012</td>\n",
       "      <td>Vale do Amanhecer - Posse</td>\n",
       "      <td>GO</td>\n",
       "      <td>[Vale, do, Amanhecer, -, Posse]</td>\n",
       "    </tr>\n",
       "    <tr>\n",
       "      <th>14319</th>\n",
       "      <td>14320</td>\n",
       "      <td>5218300013</td>\n",
       "      <td>Vila São José - Posse</td>\n",
       "      <td>GO</td>\n",
       "      <td>[Vila, São, José, -, Posse]</td>\n",
       "    </tr>\n",
       "  </tbody>\n",
       "</table>\n",
       "<p>14320 rows × 5 columns</p>\n",
       "</div>"
      ],
      "text/plain": [
       "          Id      Codigo                                      Nome  Uf  \\\n",
       "0          1  1100015001            Centro - Alta Floresta D'Oeste  RO   \n",
       "1          2  1100015002         Liberdade - Alta Floresta D'Oeste  RO   \n",
       "2          3  1100015003       Cidade Alta - Alta Floresta D'Oeste  RO   \n",
       "3          4  1100015004  Santa Felicidade - Alta Floresta D'Oeste  RO   \n",
       "4          5  1100015005   Princesa Isabel - Alta Floresta D'Oeste  RO   \n",
       "...      ...         ...                                       ...  ..   \n",
       "14315  14316  5218300009                    Setor Mãe Bela - Posse  GO   \n",
       "14316  14317  5218300010                Setor Buenos Aires - Posse  GO   \n",
       "14317  14318  5218300011                       Cafelândios - Posse  GO   \n",
       "14318  14319  5218300012                 Vale do Amanhecer - Posse  GO   \n",
       "14319  14320  5218300013                     Vila São José - Posse  GO   \n",
       "\n",
       "                                                tokens  \n",
       "0                 [Centro, -, Alta, Floresta, D'Oeste]  \n",
       "1              [Liberdade, -, Alta, Floresta, D'Oeste]  \n",
       "2           [Cidade, Alta, -, Alta, Floresta, D'Oeste]  \n",
       "3      [Santa, Felicidade, -, Alta, Floresta, D'Oeste]  \n",
       "4       [Princesa, Isabel, -, Alta, Floresta, D'Oeste]  \n",
       "...                                                ...  \n",
       "14315                     [Setor, Mãe, Bela, -, Posse]  \n",
       "14316                 [Setor, Buenos, Aires, -, Posse]  \n",
       "14317                          [Cafelândios, -, Posse]  \n",
       "14318                  [Vale, do, Amanhecer, -, Posse]  \n",
       "14319                      [Vila, São, José, -, Posse]  \n",
       "\n",
       "[14320 rows x 5 columns]"
      ]
     },
     "execution_count": 294,
     "metadata": {},
     "output_type": "execute_result"
    }
   ],
   "source": [
    "bairros[\"tokens\"] = bairros[\"Nome\"].str.split()\n",
    "bairros"
   ]
  },
  {
   "cell_type": "code",
   "execution_count": 295,
   "metadata": {},
   "outputs": [
    {
     "data": {
      "text/plain": [
       "['(S-10', '(S-8', '(S-9', '-', '/']"
      ]
     },
     "execution_count": 295,
     "metadata": {},
     "output_type": "execute_result"
    }
   ],
   "source": [
    "tokens = bairros[\"tokens\"].values\n",
    "vocab = sorted(list(set(sum(bairros[\"tokens\"].values, []))))\n",
    "vocab[15:20]"
   ]
  },
  {
   "cell_type": "code",
   "execution_count": 296,
   "metadata": {},
   "outputs": [
    {
     "data": {
      "image/png": "[encoded data removed]",
      "text/plain": [
       "<Figure size 640x480 with 1 Axes>"
      ]
     },
     "metadata": {},
     "output_type": "display_data"
    }
   ],
   "source": [
    "import matplotlib.pyplot as plt\n",
    "\n",
    "token_lengths = [len(t) for t in tokens]\n",
    "\n",
    "sns.set_style(\"whitegrid\")\n",
    "\n",
    "sns.histplot(token_lengths, bins=20,  color='skyblue')\n",
    "\n",
    "plt.title('Distribution of Token Lengths')\n",
    "plt.xlabel('Token Length')\n",
    "plt.ylabel('Frequency')\n",
    "\n",
    "plt.show()"
   ]
  },
  {
   "cell_type": "code",
   "execution_count": 297,
   "metadata": {},
   "outputs": [],
   "source": [
    "# build the vocabulary of characters and mappings to/from integers\n",
    "stoi = {s:i+1 for i,s in enumerate(vocab)}\n",
    "stoi['.'] = 0\n",
    "itos = {i:s for s,i in stoi.items()}"
   ]
  },
  {
   "cell_type": "code",
   "execution_count": 298,
   "metadata": {},
   "outputs": [],
   "source": [
    "# build the dataset\n",
    "block_size = 6 # context length: how many characters do we take to predict the next one?\n",
    "vocab_size = len(vocab)\n",
    "\n",
    "def build_dataset(tokens):\n",
    "  X, Y = [], []\n",
    "  for w in tokens:\n",
    "\n",
    "    context = [0] * block_size\n",
    "    for ch in w + ['.']:\n",
    "      ix = stoi[ch]\n",
    "      X.append(context)\n",
    "      Y.append(ix)\n",
    "      #print(''.join(itos[i] for i in context), '--->', itos[ix])\n",
    "      context = context[1:] + [ix] # crop and append\n",
    "\n",
    "  X = torch.tensor(X)\n",
    "  Y = torch.tensor(Y)\n",
    "  print(X.shape, Y.shape)\n",
    "  return X, Y"
   ]
  },
  {
   "cell_type": "code",
   "execution_count": 299,
   "metadata": {},
   "outputs": [],
   "source": [
    "batch_size = 16"
   ]
  },
  {
   "cell_type": "code",
   "execution_count": 300,
   "metadata": {},
   "outputs": [
    {
     "name": "stdout",
     "output_type": "stream",
     "text": [
      "torch.Size([63721, 6]) torch.Size([63721])\n",
      "torch.Size([8016, 6]) torch.Size([8016])\n",
      "torch.Size([7895, 6]) torch.Size([7895])\n"
     ]
    }
   ],
   "source": [
    "import torch\n",
    "from torch.utils.data import Dataset, DataLoader\n",
    "\n",
    "class CustomDataset(Dataset):\n",
    "    def __init__(self, tokens):\n",
    "        self.tokens = tokens\n",
    "        self.X, self.Y = build_dataset(self.tokens)\n",
    "        self.X = self.X.to(device)\n",
    "        self.Y = self.Y.to(device)\n",
    "    \n",
    "    def __len__(self):\n",
    "        return len(self.tokens)\n",
    "    \n",
    "    def __getitem__(self, idx):\n",
    "        return self.X[idx], self.Y[idx]\n",
    "\n",
    "# Assuming tokens is already shuffled\n",
    "random.seed()\n",
    "random.shuffle(tokens)\n",
    "\n",
    "n1 = int(0.8 * len(tokens))\n",
    "n2 = int(0.9 * len(tokens))\n",
    "\n",
    "# Set the device you want to use (e.g., 'cuda' for GPU or 'cpu' for CPU)\n",
    "device = torch.device('cuda' if torch.cuda.is_available() else 'cpu')\n",
    "\n",
    "train_dataset = CustomDataset(tokens[:n1])\n",
    "dev_dataset   = CustomDataset(tokens[n1:n2])\n",
    "test_dataset  = CustomDataset(tokens[n2:])\n",
    "\n",
    "# Example of DataLoader creation\n",
    "train_loader = DataLoader(train_dataset, batch_size=batch_size, shuffle=True)\n",
    "dev_loader   = DataLoader(dev_dataset, batch_size=batch_size, shuffle=False)\n",
    "test_loader  = DataLoader(test_dataset, batch_size=batch_size, shuffle=False)\n"
   ]
  },
  {
   "cell_type": "code",
   "execution_count": 301,
   "metadata": {},
   "outputs": [],
   "source": [
    "from torch import nn\n",
    "\n",
    "class NeuralNetwork(nn.Module):\n",
    "    def __init__(self,embedding_dim=30):\n",
    "        super().__init__()\n",
    "        self.encoder = nn.Sequential(nn.Linear(vocab_size, embedding_dim),nn.Tanh())\n",
    "        self.linear_relu_stack = nn.Sequential(\n",
    "            nn.Linear(embedding_dim * block_size, 512),\n",
    "            nn.BatchNorm1d(512),  # Batch normalization layer\n",
    "            nn.ReLU(),\n",
    "        )\n",
    "        self.decoder = nn.Linear(512, vocab_size)\n",
    "\n",
    "    def forward(self, x):\n",
    "        # Perform one-hot encoding\n",
    "        x = torch.nn.functional.one_hot(x, num_classes=self.encoder[0].in_features).float()\n",
    "        # Pass through encoder layer\n",
    "        x = self.encoder(x)\n",
    "        x = x.view(x.shape[0],-1)\n",
    "        x = self.linear_relu_stack(x)\n",
    "        logits = self.decoder(x)\n",
    "        return logits"
   ]
  },
  {
   "cell_type": "code",
   "execution_count": 302,
   "metadata": {},
   "outputs": [],
   "source": [
    "def train_loop(dataloader, model, loss_fn, optimizer):\n",
    "    size = len(dataloader.dataset)\n",
    "    losses = []  # Collect losses for plotting\n",
    "    model.train()\n",
    "    for batch, (X, y) in enumerate(dataloader):\n",
    "        pred = model(X)\n",
    "        loss = loss_fn(pred, y)\n",
    "\n",
    "        loss.backward()\n",
    "        optimizer.step()\n",
    "        optimizer.zero_grad()\n",
    "\n",
    "        losses.append(loss.item())  # Append current loss to the list\n",
    "\n",
    "        if batch % 100 == 0:\n",
    "            loss, current = loss.item(), batch * len(X) + len(X)\n",
    "            print(f\"loss: {loss:>7f}  [{current:>5d}/{size:>5d}]\")\n",
    "    return np.log(losses)  # Return losses for plotting\n",
    "\n",
    "def test_loop(dataloader, model, loss_fn):\n",
    "    model.eval()\n",
    "    size = len(dataloader.dataset)\n",
    "    num_batches = len(dataloader)\n",
    "    test_loss, correct = 0, 0\n",
    "\n",
    "    with torch.no_grad():\n",
    "        for X, y in dataloader:\n",
    "            pred = model(X)\n",
    "            test_loss += loss_fn(pred, y).item()\n",
    "            correct += (pred.argmax(1) == y).type(torch.float).sum().item()\n",
    "\n",
    "    test_loss /= num_batches\n",
    "    correct /= size\n",
    "    print(f\"Test Error: \\n Accuracy: {(100*correct):>0.1f}%, Avg loss: {test_loss:>8f} \\n\")\n",
    "    return np.log(test_loss)"
   ]
  },
  {
   "cell_type": "code",
   "execution_count": 303,
   "metadata": {},
   "outputs": [
    {
     "data": {
      "text/plain": [
       "NeuralNetwork(\n",
       "  (encoder): Sequential(\n",
       "    (0): Linear(in_features=6016, out_features=30, bias=True)\n",
       "    (1): Tanh()\n",
       "  )\n",
       "  (linear_relu_stack): Sequential(\n",
       "    (0): Linear(in_features=180, out_features=512, bias=True)\n",
       "    (1): BatchNorm1d(512, eps=1e-05, momentum=0.1, affine=True, track_running_stats=True)\n",
       "    (2): ReLU()\n",
       "  )\n",
       "  (decoder): Linear(in_features=512, out_features=6016, bias=True)\n",
       ")"
      ]
     },
     "execution_count": 303,
     "metadata": {},
     "output_type": "execute_result"
    }
   ],
   "source": [
    "model = NeuralNetwork().to(device)\n",
    "model"
   ]
  },
  {
   "cell_type": "code",
   "execution_count": 304,
   "metadata": {},
   "outputs": [],
   "source": [
    "learning_rate = 1e-3"
   ]
  },
  {
   "cell_type": "code",
   "execution_count": 305,
   "metadata": {},
   "outputs": [
    {
     "name": "stdout",
     "output_type": "stream",
     "text": [
      "Epoch 1\n",
      "-------------------------------\n",
      "loss: 8.776143  [   16/11456]\n"
     ]
    },
    {
     "name": "stdout",
     "output_type": "stream",
     "text": [
      "loss: 5.696325  [ 1616/11456]\n",
      "loss: 6.958888  [ 3216/11456]\n",
      "loss: 3.748686  [ 4816/11456]\n",
      "loss: 4.493782  [ 6416/11456]\n",
      "loss: 4.426299  [ 8016/11456]\n",
      "loss: 3.418755  [ 9616/11456]\n",
      "loss: 3.646348  [11216/11456]\n",
      "Test Error: \n",
      " Accuracy: 43.9%, Avg loss: 4.231139 \n",
      "\n",
      "Epoch 2\n",
      "-------------------------------\n",
      "loss: 2.330014  [   16/11456]\n",
      "loss: 4.670491  [ 1616/11456]\n",
      "loss: 3.702593  [ 3216/11456]\n",
      "loss: 3.161109  [ 4816/11456]\n",
      "loss: 3.504338  [ 6416/11456]\n",
      "loss: 5.801806  [ 8016/11456]\n",
      "loss: 2.653826  [ 9616/11456]\n",
      "loss: 3.073145  [11216/11456]\n",
      "Test Error: \n",
      " Accuracy: 46.4%, Avg loss: 4.281561 \n",
      "\n",
      "Epoch 3\n",
      "-------------------------------\n",
      "loss: 2.454165  [   16/11456]\n",
      "loss: 2.946674  [ 1616/11456]\n",
      "loss: 1.998492  [ 3216/11456]\n",
      "loss: 2.571924  [ 4816/11456]\n",
      "loss: 2.968751  [ 6416/11456]\n",
      "loss: 3.502469  [ 8016/11456]\n",
      "loss: 2.718963  [ 9616/11456]\n",
      "loss: 1.756172  [11216/11456]\n",
      "Test Error: \n",
      " Accuracy: 46.4%, Avg loss: 4.758034 \n",
      "\n",
      "Epoch 4\n",
      "-------------------------------\n",
      "loss: 2.244092  [   16/11456]\n",
      "loss: 3.264289  [ 1616/11456]\n",
      "loss: 2.534314  [ 3216/11456]\n",
      "loss: 1.907835  [ 4816/11456]\n",
      "loss: 1.844522  [ 6416/11456]\n",
      "loss: 1.688106  [ 8016/11456]\n",
      "loss: 3.069811  [ 9616/11456]\n",
      "loss: 2.633384  [11216/11456]\n",
      "Test Error: \n",
      " Accuracy: 47.2%, Avg loss: 4.658736 \n",
      "\n",
      "Epoch 5\n",
      "-------------------------------\n",
      "loss: 1.967590  [   16/11456]\n",
      "loss: 2.875373  [ 1616/11456]\n",
      "loss: 2.934351  [ 3216/11456]\n",
      "loss: 1.664180  [ 4816/11456]\n",
      "loss: 1.947532  [ 6416/11456]\n",
      "loss: 0.877870  [ 8016/11456]\n",
      "loss: 0.916859  [ 9616/11456]\n",
      "loss: 1.005577  [11216/11456]\n",
      "Test Error: \n",
      " Accuracy: 47.1%, Avg loss: 4.769619 \n",
      "\n",
      "Epoch 6\n",
      "-------------------------------\n",
      "loss: 3.340198  [   16/11456]\n",
      "loss: 3.364009  [ 1616/11456]\n",
      "loss: 1.263357  [ 3216/11456]\n",
      "loss: 1.983179  [ 4816/11456]\n",
      "loss: 0.939085  [ 6416/11456]\n",
      "loss: 2.097277  [ 8016/11456]\n",
      "loss: 2.072403  [ 9616/11456]\n",
      "loss: 1.598998  [11216/11456]\n",
      "Test Error: \n",
      " Accuracy: 46.7%, Avg loss: 4.820275 \n",
      "\n",
      "Epoch 7\n",
      "-------------------------------\n",
      "loss: 1.619861  [   16/11456]\n",
      "loss: 2.013461  [ 1616/11456]\n",
      "loss: 1.652664  [ 3216/11456]\n",
      "loss: 1.766530  [ 4816/11456]\n",
      "loss: 2.148453  [ 6416/11456]\n",
      "loss: 1.892605  [ 8016/11456]\n",
      "loss: 1.560265  [ 9616/11456]\n",
      "loss: 2.828758  [11216/11456]\n",
      "Test Error: \n",
      " Accuracy: 46.8%, Avg loss: 4.821976 \n",
      "\n",
      "Epoch 8\n",
      "-------------------------------\n",
      "loss: 2.002023  [   16/11456]\n",
      "loss: 2.473831  [ 1616/11456]\n",
      "loss: 2.095388  [ 3216/11456]\n",
      "loss: 1.336390  [ 4816/11456]\n",
      "loss: 1.829796  [ 6416/11456]\n",
      "loss: 2.212308  [ 8016/11456]\n",
      "loss: 2.102403  [ 9616/11456]\n",
      "loss: 1.498752  [11216/11456]\n",
      "Test Error: \n",
      " Accuracy: 46.7%, Avg loss: 4.825797 \n",
      "\n",
      "Epoch 9\n",
      "-------------------------------\n",
      "loss: 1.469168  [   16/11456]\n",
      "loss: 2.604802  [ 1616/11456]\n",
      "loss: 1.762861  [ 3216/11456]\n",
      "loss: 2.020208  [ 4816/11456]\n",
      "loss: 1.105375  [ 6416/11456]\n",
      "loss: 2.312347  [ 8016/11456]\n",
      "loss: 1.566633  [ 9616/11456]\n",
      "loss: 2.911135  [11216/11456]\n",
      "Test Error: \n",
      " Accuracy: 46.6%, Avg loss: 4.904008 \n",
      "\n",
      "Epoch 10\n",
      "-------------------------------\n",
      "loss: 2.099772  [   16/11456]\n",
      "loss: 2.180544  [ 1616/11456]\n",
      "loss: 2.047320  [ 3216/11456]\n",
      "loss: 2.179747  [ 4816/11456]\n",
      "loss: 1.971145  [ 6416/11456]\n",
      "loss: 2.426856  [ 8016/11456]\n",
      "loss: 2.469392  [ 9616/11456]\n",
      "loss: 1.122913  [11216/11456]\n",
      "Test Error: \n",
      " Accuracy: 46.9%, Avg loss: 4.812389 \n",
      "\n",
      "Done!\n"
     ]
    }
   ],
   "source": [
    "loss_fn = nn.CrossEntropyLoss()\n",
    "optimizer = torch.optim.Adam(model.parameters(), lr=learning_rate)\n",
    "scheduler = torch.optim.lr_scheduler.StepLR(optimizer, step_size=3, gamma=0.1)  # Reduce LR by a factor of 0.1 every 5 epochs\n",
    "\n",
    "train_losses = []  # Collect training losses for plotting\n",
    "dev_losses = []    # Collect dev (validation) losses for plotting\n",
    "\n",
    "epochs = 10\n",
    "for t in range(epochs):\n",
    "    print(f\"Epoch {t+1}\\n-------------------------------\")\n",
    "    train_loss = train_loop(train_loader, model, loss_fn, optimizer)\n",
    "    dev_loss = test_loop(dev_loader, model, loss_fn)\n",
    "    train_losses.extend(train_loss)  # Extend train_losses list with losses from this epoch\n",
    "    dev_losses.append(dev_loss)      # Append dev_loss to dev_losses list\n",
    "    scheduler.step()  # Step the scheduler to update the learning rate\n",
    "\n",
    "print(\"Done!\")"
   ]
  },
  {
   "cell_type": "code",
   "execution_count": 306,
   "metadata": {},
   "outputs": [],
   "source": [
    "batches_per_epoch = len(train_loader)  # Total number of batches per epoch\n",
    "batch_step = batches_per_epoch // epochs  # Number of batches to process per epoch"
   ]
  },
  {
   "cell_type": "code",
   "execution_count": 307,
   "metadata": {},
   "outputs": [
    {
     "data": {
      "image/png": "[encoded data removed]",
      "text/plain": [
       "<Figure size 1000x500 with 1 Axes>"
      ]
     },
     "metadata": {},
     "output_type": "display_data"
    }
   ],
   "source": [
    "# Plot training and dev losses\n",
    "plt.figure(figsize=(10, 5))\n",
    "\n",
    "    \n",
    "plt.plot(np.arange(batches_per_epoch, epochs * batches_per_epoch + 1, batches_per_epoch), dev_losses, label='Dev Loss', color='orange')\n",
    "\n",
    "plt.plot(np.arange(len(train_losses)), train_losses, label='Training Loss', color='blue',alpha=0.6)\n",
    "\n",
    "# Calculate moving average with window size\n",
    "window_size = batches_per_epoch\n",
    "moving_avg = np.convolve(train_losses, np.ones(window_size)/window_size, mode='valid')\n",
    "plt.plot(np.arange(window_size-1, len(train_losses)), moving_avg, label=f'Moving Average (Window Size={window_size} batchs per epoch)', color='red')\n",
    "\n",
    "\n",
    "plt.xlabel('Batch')\n",
    "plt.ylabel('Loss')\n",
    "plt.title('Training and Dev Losses')\n",
    "plt.legend()\n",
    "plt.show()"
   ]
  },
  {
   "cell_type": "code",
   "execution_count": 308,
   "metadata": {},
   "outputs": [
    {
     "name": "stdout",
     "output_type": "stream",
     "text": [
      "Test Error: \n",
      " Accuracy: 46.9%, Avg loss: 4.812389 \n",
      "\n"
     ]
    }
   ],
   "source": [
    "loss = test_loop(dev_loader, model, loss_fn)"
   ]
  },
  {
   "cell_type": "code",
   "execution_count": 309,
   "metadata": {},
   "outputs": [
    {
     "name": "stdout",
     "output_type": "stream",
     "text": [
      " Subsetor Oeste - Paulista - O-1 - Ribeirão Preto\n",
      " Região Urbana Homogênea XXIV - Poços de Caldas\n",
      " Limoeiro - Cariacica\n",
      " Andorinhas - Praia Grande\n",
      " Parque Vila Serra - Patos de Minas\n",
      " Próspero - Planalto\n",
      " Azaléia - Caxias do Sul\n",
      " Tabajara - Boa Vista\n",
      " Fruteira - Laurentino\n",
      " Parque Santa São Francisco - Galli\n"
     ]
    }
   ],
   "source": [
    "def generate(context_,n = 10):\n",
    "    model.eval()\n",
    "    # Sample from the model\n",
    "    for _ in range(n):\n",
    "        out = []\n",
    "        context = context_ # initialize with all ...\n",
    "        while True:\n",
    "            # Move context tensor to the appropriate device\n",
    "            context_tensor = torch.tensor(context).to(device).reshape(-1, block_size)\n",
    "            \n",
    "            # Forward pass through the model\n",
    "            logits = model(context_tensor)\n",
    "            \n",
    "            # Apply softmax to logits to get probabilities\n",
    "            probs = nn.Softmax(dim=1)(logits).to(\"cpu\")\n",
    "            \n",
    "            # Generate a sample using multinomial sampling\n",
    "            ix = torch.multinomial(probs, num_samples=1).item()\n",
    "            \n",
    "            # Update context\n",
    "            context = context[1:] + [ix]\n",
    "            \n",
    "            # Append the sampled index to the output\n",
    "            out.append(ix)\n",
    "            \n",
    "            # If the sampled index is 0, break the loop\n",
    "            if ix == 0:\n",
    "                break\n",
    "        \n",
    "        # Print the sampled sequence\n",
    "        word = ' '.join(itos[i] for i in context_ if i) + \" \" + ' '.join(itos[i] for i in out[:-1])\n",
    "        word = word.replace(\". \",\"\")\n",
    "        print(word)\n",
    "\n",
    "context = [0] * block_size  # initialize with all ...\n",
    "generate(context)"
   ]
  },
  {
   "cell_type": "code",
   "execution_count": 310,
   "metadata": {},
   "outputs": [
    {
     "name": "stdout",
     "output_type": "stream",
     "text": [
      "Santa Rita - Lauro Muller\n",
      "Santa Maria II\n",
      "Santa Fé - Campo Grande\n",
      "Santa Clara - Farroupilha\n",
      "Santa Rita - Itabirito\n",
      "Santa Clara - Encantado\n",
      "Santa Rita - Osasco\n",
      "Santa Cecília - Pires do Rio\n",
      "Santa Luzia - Branco\n",
      "Santa Catarina - Campo Mourão\n"
     ]
    }
   ],
   "source": [
    "context = [0] * block_size  # initialize with all ...\n",
    "context[-1] = stoi[\"Santa\"]\n",
    "generate(context)"
   ]
  },
  {
   "cell_type": "code",
   "execution_count": 311,
   "metadata": {},
   "outputs": [
    {
     "name": "stdout",
     "output_type": "stream",
     "text": [
      "Centro - Canindé\n",
      "Centro - Não-Me-Toque\n",
      "Centro - Patrocínio\n"
     ]
    },
    {
     "name": "stdout",
     "output_type": "stream",
     "text": [
      "Centro - Araricá\n",
      "Centro - Boa Viagem -\n",
      "Centro - Soure\n",
      "Centro Comercial - Ponte Nova\n",
      "Centro - Osasco\n",
      "Centro - José Viana\n",
      "Centro - Manoel Russas\n"
     ]
    }
   ],
   "source": [
    "context = [0] * block_size  # initialize with all ...\n",
    "context[-1] = stoi[\"Centro\"]\n",
    "generate(context)"
   ]
  },
  {
   "cell_type": "code",
   "execution_count": 312,
   "metadata": {},
   "outputs": [
    {
     "name": "stdout",
     "output_type": "stream",
     "text": [
      "Vila do Sul - Embu das Artes\n",
      "Vila do - - Cuiabá\n",
      "Vila do Grande - Angra dos Reis\n",
      "Vila do da - Catanduva\n"
     ]
    },
    {
     "name": "stdout",
     "output_type": "stream",
     "text": [
      "Vila do dos de - Santa Machado\n",
      "Vila do Costa - Belo Horizonte\n",
      "Vila do São José - Nova\n",
      "Vila do Armour - São Gonçalo\n",
      "Vila do II - Cuiabá\n",
      "Vila do Sul da Bebedouro - Balneário Camboriú\n"
     ]
    }
   ],
   "source": [
    "context = [0] * block_size  # initialize with all ...\n",
    "context[-2] = stoi[\"Vila\"]\n",
    "context[-1] = stoi[\"do\"]\n",
    "generate(context)"
   ]
  },
  {
   "cell_type": "code",
   "execution_count": 315,
   "metadata": {},
   "outputs": [
    {
     "data": {
      "image/png": "[encoded data removed]",
      "text/plain": [
       "<Figure size 1000x800 with 1 Axes>"
      ]
     },
     "metadata": {},
     "output_type": "display_data"
    }
   ],
   "source": [
    "from sklearn.manifold import TSNE\n",
    "\n",
    "# Set your model to evaluation mode\n",
    "model.eval()\n",
    "\n",
    "# Initialize lists to store embeddings and corresponding labels\n",
    "embeddings = []\n",
    "labels = []\n",
    "\n",
    "# Iterate through the data loader to obtain embeddings and labels\n",
    "for data, target in dev_loader:\n",
    "    # Forward pass through the model to obtain embeddings\n",
    "    with torch.no_grad():\n",
    "        x = torch.nn.functional.one_hot(data, num_classes=model.encoder[0].in_features).float()\n",
    "        x = model.encoder(x)\n",
    "        x = x.view(x.shape[0],-1)\n",
    "    embeddings.append(x.cpu())\n",
    "    labels.append(target.cpu())\n",
    "\n",
    "# Concatenate embeddings and labels\n",
    "embeddings = np.concatenate(embeddings)\n",
    "labels = np.concatenate(labels)\n",
    "\n",
    "# Reduce dimensionality using t-SNE\n",
    "tsne = TSNE(n_components=2, random_state=42)\n",
    "embeddings_2d = tsne.fit_transform(embeddings)\n",
    "\n",
    "# Plot the embeddings\n",
    "plt.figure(figsize=(10, 8))\n",
    "plt.scatter(embeddings_2d[labels == 0, 0], embeddings_2d[labels == 0, 1], c='red', label='Label 0 (Dot)', marker='.')\n",
    "plt.scatter(embeddings_2d[labels != 0, 0], embeddings_2d[labels != 0, 1], c='blue', label='Label 1 (Not Dot)', marker='.')\n",
    "plt.legend()\n",
    "# \n",
    "plt.title('t-SNE Visualization of Embeddings')\n",
    "plt.xlabel('t-SNE Dimension 1')\n",
    "plt.ylabel('t-SNE Dimension 2')\n",
    "plt.show()"
   ]
  }
 ],
 "metadata": {
  "kernelspec": {
   "display_name": "name_generator",
   "language": "python",
   "name": "python3"
  },
  "language_info": {
   "codemirror_mode": {
    "name": "ipython",
    "version": 3
   },
   "file_extension": ".py",
   "mimetype": "text/x-python",
   "name": "python",
   "nbconvert_exporter": "python",
   "pygments_lexer": "ipython3",
   "version": "3.12.2"
  }
 },
 "nbformat": 4,
 "nbformat_minor": 2
}
