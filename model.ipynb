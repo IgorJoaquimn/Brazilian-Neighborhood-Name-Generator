{
 "cells": [
  {
   "cell_type": "code",
   "execution_count": 493,
   "metadata": {},
   "outputs": [],
   "source": [
    "import torch"
   ]
  },
  {
   "cell_type": "code",
   "execution_count": 494,
   "metadata": {},
   "outputs": [],
   "source": [
    "import pandas as pd\n",
    "import numpy as np\n",
    "import seaborn as sns\n",
    "import random"
   ]
  },
  {
   "cell_type": "code",
   "execution_count": 495,
   "metadata": {},
   "outputs": [
    {
     "name": "stdout",
     "output_type": "stream",
     "text": [
      "Using cuda device\n"
     ]
    }
   ],
   "source": [
    "device = (\n",
    "    \"cuda\"\n",
    "    if torch.cuda.is_available()\n",
    "    else \"mps\"\n",
    "    if torch.backends.mps.is_available()\n",
    "    else \"cpu\"\n",
    ")\n",
    "print(f\"Using {device} device\")"
   ]
  },
  {
   "cell_type": "code",
   "execution_count": 496,
   "metadata": {},
   "outputs": [
    {
     "data": {
      "text/html": [
       "<div>\n",
       "<style scoped>\n",
       "    .dataframe tbody tr th:only-of-type {\n",
       "        vertical-align: middle;\n",
       "    }\n",
       "\n",
       "    .dataframe tbody tr th {\n",
       "        vertical-align: top;\n",
       "    }\n",
       "\n",
       "    .dataframe thead th {\n",
       "        text-align: right;\n",
       "    }\n",
       "</style>\n",
       "<table border=\"1\" class=\"dataframe\">\n",
       "  <thead>\n",
       "    <tr style=\"text-align: right;\">\n",
       "      <th></th>\n",
       "      <th>Id</th>\n",
       "      <th>Codigo</th>\n",
       "      <th>Nome</th>\n",
       "      <th>Uf</th>\n",
       "    </tr>\n",
       "  </thead>\n",
       "  <tbody>\n",
       "    <tr>\n",
       "      <th>0</th>\n",
       "      <td>1</td>\n",
       "      <td>1100015001</td>\n",
       "      <td>Centro - Alta Floresta D'Oeste</td>\n",
       "      <td>RO</td>\n",
       "    </tr>\n",
       "    <tr>\n",
       "      <th>1</th>\n",
       "      <td>2</td>\n",
       "      <td>1100015002</td>\n",
       "      <td>Liberdade - Alta Floresta D'Oeste</td>\n",
       "      <td>RO</td>\n",
       "    </tr>\n",
       "    <tr>\n",
       "      <th>2</th>\n",
       "      <td>3</td>\n",
       "      <td>1100015003</td>\n",
       "      <td>Cidade Alta - Alta Floresta D'Oeste</td>\n",
       "      <td>RO</td>\n",
       "    </tr>\n",
       "    <tr>\n",
       "      <th>3</th>\n",
       "      <td>4</td>\n",
       "      <td>1100015004</td>\n",
       "      <td>Santa Felicidade - Alta Floresta D'Oeste</td>\n",
       "      <td>RO</td>\n",
       "    </tr>\n",
       "    <tr>\n",
       "      <th>4</th>\n",
       "      <td>5</td>\n",
       "      <td>1100015005</td>\n",
       "      <td>Princesa Isabel - Alta Floresta D'Oeste</td>\n",
       "      <td>RO</td>\n",
       "    </tr>\n",
       "    <tr>\n",
       "      <th>...</th>\n",
       "      <td>...</td>\n",
       "      <td>...</td>\n",
       "      <td>...</td>\n",
       "      <td>...</td>\n",
       "    </tr>\n",
       "    <tr>\n",
       "      <th>14315</th>\n",
       "      <td>14316</td>\n",
       "      <td>5218300009</td>\n",
       "      <td>Setor Mãe Bela - Posse</td>\n",
       "      <td>GO</td>\n",
       "    </tr>\n",
       "    <tr>\n",
       "      <th>14316</th>\n",
       "      <td>14317</td>\n",
       "      <td>5218300010</td>\n",
       "      <td>Setor Buenos Aires - Posse</td>\n",
       "      <td>GO</td>\n",
       "    </tr>\n",
       "    <tr>\n",
       "      <th>14317</th>\n",
       "      <td>14318</td>\n",
       "      <td>5218300011</td>\n",
       "      <td>Cafelândios - Posse</td>\n",
       "      <td>GO</td>\n",
       "    </tr>\n",
       "    <tr>\n",
       "      <th>14318</th>\n",
       "      <td>14319</td>\n",
       "      <td>5218300012</td>\n",
       "      <td>Vale do Amanhecer - Posse</td>\n",
       "      <td>GO</td>\n",
       "    </tr>\n",
       "    <tr>\n",
       "      <th>14319</th>\n",
       "      <td>14320</td>\n",
       "      <td>5218300013</td>\n",
       "      <td>Vila São José - Posse</td>\n",
       "      <td>GO</td>\n",
       "    </tr>\n",
       "  </tbody>\n",
       "</table>\n",
       "<p>14320 rows × 4 columns</p>\n",
       "</div>"
      ],
      "text/plain": [
       "          Id      Codigo                                      Nome  Uf\n",
       "0          1  1100015001            Centro - Alta Floresta D'Oeste  RO\n",
       "1          2  1100015002         Liberdade - Alta Floresta D'Oeste  RO\n",
       "2          3  1100015003       Cidade Alta - Alta Floresta D'Oeste  RO\n",
       "3          4  1100015004  Santa Felicidade - Alta Floresta D'Oeste  RO\n",
       "4          5  1100015005   Princesa Isabel - Alta Floresta D'Oeste  RO\n",
       "...      ...         ...                                       ...  ..\n",
       "14315  14316  5218300009                    Setor Mãe Bela - Posse  GO\n",
       "14316  14317  5218300010                Setor Buenos Aires - Posse  GO\n",
       "14317  14318  5218300011                       Cafelândios - Posse  GO\n",
       "14318  14319  5218300012                 Vale do Amanhecer - Posse  GO\n",
       "14319  14320  5218300013                     Vila São José - Posse  GO\n",
       "\n",
       "[14320 rows x 4 columns]"
      ]
     },
     "execution_count": 496,
     "metadata": {},
     "output_type": "execute_result"
    }
   ],
   "source": [
    "bairros = pd.read_csv(\"https://raw.githubusercontent.com/chandez/Estados-Cidades-IBGE/master/csv/bairros.csv\")\n",
    "bairros"
   ]
  },
  {
   "cell_type": "code",
   "execution_count": 497,
   "metadata": {},
   "outputs": [
    {
     "data": {
      "text/html": [
       "<div>\n",
       "<style scoped>\n",
       "    .dataframe tbody tr th:only-of-type {\n",
       "        vertical-align: middle;\n",
       "    }\n",
       "\n",
       "    .dataframe tbody tr th {\n",
       "        vertical-align: top;\n",
       "    }\n",
       "\n",
       "    .dataframe thead th {\n",
       "        text-align: right;\n",
       "    }\n",
       "</style>\n",
       "<table border=\"1\" class=\"dataframe\">\n",
       "  <thead>\n",
       "    <tr style=\"text-align: right;\">\n",
       "      <th></th>\n",
       "      <th>Id</th>\n",
       "      <th>Codigo</th>\n",
       "      <th>Nome</th>\n",
       "      <th>Uf</th>\n",
       "      <th>tokens</th>\n",
       "    </tr>\n",
       "  </thead>\n",
       "  <tbody>\n",
       "    <tr>\n",
       "      <th>0</th>\n",
       "      <td>1</td>\n",
       "      <td>1100015001</td>\n",
       "      <td>Centro - Alta Floresta D'Oeste</td>\n",
       "      <td>RO</td>\n",
       "      <td>[Centro, -, Alta, Floresta, D'Oeste]</td>\n",
       "    </tr>\n",
       "    <tr>\n",
       "      <th>1</th>\n",
       "      <td>2</td>\n",
       "      <td>1100015002</td>\n",
       "      <td>Liberdade - Alta Floresta D'Oeste</td>\n",
       "      <td>RO</td>\n",
       "      <td>[Liberdade, -, Alta, Floresta, D'Oeste]</td>\n",
       "    </tr>\n",
       "    <tr>\n",
       "      <th>2</th>\n",
       "      <td>3</td>\n",
       "      <td>1100015003</td>\n",
       "      <td>Cidade Alta - Alta Floresta D'Oeste</td>\n",
       "      <td>RO</td>\n",
       "      <td>[Cidade, Alta, -, Alta, Floresta, D'Oeste]</td>\n",
       "    </tr>\n",
       "    <tr>\n",
       "      <th>3</th>\n",
       "      <td>4</td>\n",
       "      <td>1100015004</td>\n",
       "      <td>Santa Felicidade - Alta Floresta D'Oeste</td>\n",
       "      <td>RO</td>\n",
       "      <td>[Santa, Felicidade, -, Alta, Floresta, D'Oeste]</td>\n",
       "    </tr>\n",
       "    <tr>\n",
       "      <th>4</th>\n",
       "      <td>5</td>\n",
       "      <td>1100015005</td>\n",
       "      <td>Princesa Isabel - Alta Floresta D'Oeste</td>\n",
       "      <td>RO</td>\n",
       "      <td>[Princesa, Isabel, -, Alta, Floresta, D'Oeste]</td>\n",
       "    </tr>\n",
       "    <tr>\n",
       "      <th>...</th>\n",
       "      <td>...</td>\n",
       "      <td>...</td>\n",
       "      <td>...</td>\n",
       "      <td>...</td>\n",
       "      <td>...</td>\n",
       "    </tr>\n",
       "    <tr>\n",
       "      <th>14315</th>\n",
       "      <td>14316</td>\n",
       "      <td>5218300009</td>\n",
       "      <td>Setor Mãe Bela - Posse</td>\n",
       "      <td>GO</td>\n",
       "      <td>[Setor, Mãe, Bela, -, Posse]</td>\n",
       "    </tr>\n",
       "    <tr>\n",
       "      <th>14316</th>\n",
       "      <td>14317</td>\n",
       "      <td>5218300010</td>\n",
       "      <td>Setor Buenos Aires - Posse</td>\n",
       "      <td>GO</td>\n",
       "      <td>[Setor, Buenos, Aires, -, Posse]</td>\n",
       "    </tr>\n",
       "    <tr>\n",
       "      <th>14317</th>\n",
       "      <td>14318</td>\n",
       "      <td>5218300011</td>\n",
       "      <td>Cafelândios - Posse</td>\n",
       "      <td>GO</td>\n",
       "      <td>[Cafelândios, -, Posse]</td>\n",
       "    </tr>\n",
       "    <tr>\n",
       "      <th>14318</th>\n",
       "      <td>14319</td>\n",
       "      <td>5218300012</td>\n",
       "      <td>Vale do Amanhecer - Posse</td>\n",
       "      <td>GO</td>\n",
       "      <td>[Vale, do, Amanhecer, -, Posse]</td>\n",
       "    </tr>\n",
       "    <tr>\n",
       "      <th>14319</th>\n",
       "      <td>14320</td>\n",
       "      <td>5218300013</td>\n",
       "      <td>Vila São José - Posse</td>\n",
       "      <td>GO</td>\n",
       "      <td>[Vila, São, José, -, Posse]</td>\n",
       "    </tr>\n",
       "  </tbody>\n",
       "</table>\n",
       "<p>14320 rows × 5 columns</p>\n",
       "</div>"
      ],
      "text/plain": [
       "          Id      Codigo                                      Nome  Uf  \\\n",
       "0          1  1100015001            Centro - Alta Floresta D'Oeste  RO   \n",
       "1          2  1100015002         Liberdade - Alta Floresta D'Oeste  RO   \n",
       "2          3  1100015003       Cidade Alta - Alta Floresta D'Oeste  RO   \n",
       "3          4  1100015004  Santa Felicidade - Alta Floresta D'Oeste  RO   \n",
       "4          5  1100015005   Princesa Isabel - Alta Floresta D'Oeste  RO   \n",
       "...      ...         ...                                       ...  ..   \n",
       "14315  14316  5218300009                    Setor Mãe Bela - Posse  GO   \n",
       "14316  14317  5218300010                Setor Buenos Aires - Posse  GO   \n",
       "14317  14318  5218300011                       Cafelândios - Posse  GO   \n",
       "14318  14319  5218300012                 Vale do Amanhecer - Posse  GO   \n",
       "14319  14320  5218300013                     Vila São José - Posse  GO   \n",
       "\n",
       "                                                tokens  \n",
       "0                 [Centro, -, Alta, Floresta, D'Oeste]  \n",
       "1              [Liberdade, -, Alta, Floresta, D'Oeste]  \n",
       "2           [Cidade, Alta, -, Alta, Floresta, D'Oeste]  \n",
       "3      [Santa, Felicidade, -, Alta, Floresta, D'Oeste]  \n",
       "4       [Princesa, Isabel, -, Alta, Floresta, D'Oeste]  \n",
       "...                                                ...  \n",
       "14315                     [Setor, Mãe, Bela, -, Posse]  \n",
       "14316                 [Setor, Buenos, Aires, -, Posse]  \n",
       "14317                          [Cafelândios, -, Posse]  \n",
       "14318                  [Vale, do, Amanhecer, -, Posse]  \n",
       "14319                      [Vila, São, José, -, Posse]  \n",
       "\n",
       "[14320 rows x 5 columns]"
      ]
     },
     "execution_count": 497,
     "metadata": {},
     "output_type": "execute_result"
    }
   ],
   "source": [
    "bairros[\"tokens\"] = bairros[\"Nome\"].str.split()\n",
    "bairros"
   ]
  },
  {
   "cell_type": "code",
   "execution_count": 498,
   "metadata": {},
   "outputs": [
    {
     "data": {
      "text/plain": [
       "['(S-10', '(S-8', '(S-9', '-', '/']"
      ]
     },
     "execution_count": 498,
     "metadata": {},
     "output_type": "execute_result"
    }
   ],
   "source": [
    "tokens = bairros[\"tokens\"].values\n",
    "vocab = sorted(list(set(sum(bairros[\"tokens\"].values, []))))\n",
    "vocab[15:20]"
   ]
  },
  {
   "cell_type": "code",
   "execution_count": 499,
   "metadata": {},
   "outputs": [
    {
     "data": {
      "image/png": "[encoded data removed]",
      "text/plain": [
       "<Figure size 640x480 with 1 Axes>"
      ]
     },
     "metadata": {},
     "output_type": "display_data"
    }
   ],
   "source": [
    "import matplotlib.pyplot as plt\n",
    "\n",
    "token_lengths = [len(t) for t in tokens]\n",
    "\n",
    "sns.set_style(\"whitegrid\")\n",
    "\n",
    "sns.histplot(token_lengths, bins=20,  color='skyblue')\n",
    "\n",
    "plt.title('Distribution of Token Lengths')\n",
    "plt.xlabel('Token Length')\n",
    "plt.ylabel('Frequency')\n",
    "\n",
    "plt.show()"
   ]
  },
  {
   "cell_type": "code",
   "execution_count": 500,
   "metadata": {},
   "outputs": [],
   "source": [
    "# build the vocabulary of characters and mappings to/from integers\n",
    "stoi = {s:i+1 for i,s in enumerate(vocab)}\n",
    "stoi['<e>'] = 0\n",
    "itos = {i:s for s,i in stoi.items()}"
   ]
  },
  {
   "cell_type": "code",
   "execution_count": 501,
   "metadata": {},
   "outputs": [],
   "source": [
    "# build the dataset\n",
    "block_size = 12 # context length: how many characters do we take to predict the next one?\n",
    "vocab_size = len(vocab)\n",
    "\n",
    "def build_dataset(tokens):\n",
    "  X, Y = [], []\n",
    "  for w in tokens:\n",
    "\n",
    "    context = [0] * block_size\n",
    "    for ch in w + ['<e>']:\n",
    "      ix = stoi[ch]\n",
    "      X.append(context)\n",
    "      Y.append(ix)\n",
    "      #print(''.join(itos[i] for i in context), '--->', itos[ix])\n",
    "      context = context[1:] + [ix] # crop and append\n",
    "\n",
    "  X = torch.tensor(X)\n",
    "  Y = torch.tensor(Y)\n",
    "  print(X.shape, Y.shape)\n",
    "  return X, Y"
   ]
  },
  {
   "cell_type": "code",
   "execution_count": 502,
   "metadata": {},
   "outputs": [],
   "source": [
    "batch_size = 32"
   ]
  },
  {
   "cell_type": "code",
   "execution_count": 503,
   "metadata": {},
   "outputs": [
    {
     "name": "stdout",
     "output_type": "stream",
     "text": [
      "torch.Size([63743, 12]) torch.Size([63743])\n",
      "torch.Size([7935, 12]) torch.Size([7935])\n",
      "torch.Size([7954, 12]) torch.Size([7954])\n"
     ]
    }
   ],
   "source": [
    "import torch\n",
    "from torch.utils.data import Dataset, DataLoader\n",
    "\n",
    "class CustomDataset(Dataset):\n",
    "    def __init__(self, tokens):\n",
    "        self.tokens = tokens\n",
    "        self.X, self.Y = build_dataset(self.tokens)\n",
    "        self.X = self.X.to(device)\n",
    "        self.Y = self.Y.to(device)\n",
    "    \n",
    "    def __len__(self):\n",
    "        return len(self.tokens)\n",
    "    \n",
    "    def __getitem__(self, idx):\n",
    "        return self.X[idx], self.Y[idx]\n",
    "\n",
    "# Assuming tokens is already shuffled\n",
    "random.seed()\n",
    "random.shuffle(tokens)\n",
    "\n",
    "n1 = int(0.8 * len(tokens))\n",
    "n2 = int(0.9 * len(tokens))\n",
    "\n",
    "# Set the device you want to use (e.g., 'cuda' for GPU or 'cpu' for CPU)\n",
    "device = torch.device('cuda' if torch.cuda.is_available() else 'cpu')\n",
    "\n",
    "train_dataset = CustomDataset(tokens[:n1])\n",
    "dev_dataset   = CustomDataset(tokens[n1:n2])\n",
    "test_dataset  = CustomDataset(tokens[n2:])\n",
    "\n",
    "# Example of DataLoader creation\n",
    "train_loader = DataLoader(train_dataset, batch_size=batch_size, shuffle=True)\n",
    "dev_loader   = DataLoader(dev_dataset, batch_size=batch_size, shuffle=False)\n",
    "test_loader  = DataLoader(test_dataset, batch_size=batch_size, shuffle=False)\n"
   ]
  },
  {
   "cell_type": "code",
   "execution_count": 535,
   "metadata": {},
   "outputs": [],
   "source": [
    "from torch import nn\n",
    "\n",
    "class NeuralNetwork(nn.Module):\n",
    "    def __init__(self,embedding_dim=10):\n",
    "        super().__init__()\n",
    "        self.encoder = nn.Sequential(nn.Linear(vocab_size, embedding_dim),nn.Tanh())\n",
    "        self.flatten = nn.Flatten() \n",
    "        self.linear_relu_stack = nn.Sequential(\n",
    "            nn.Linear(embedding_dim * block_size, 128),\n",
    "            nn.BatchNorm1d(128),  # Batch normalization layer\n",
    "            nn.ReLU(),\n",
    "        )\n",
    "        self.decoder = nn.Linear(128, vocab_size)\n",
    "\n",
    "        nn.init.xavier_normal_(self.linear_relu_stack[0].weight, gain=0.5)\n",
    "\n",
    "\n",
    "    def forward(self, x):\n",
    "        # Perform one-hot encoding\n",
    "        x = torch.nn.functional.one_hot(x, num_classes=self.encoder[0].in_features).float()\n",
    "        # Pass through encoder layer\n",
    "        x = self.encoder(x)\n",
    "        x = self.flatten(x)\n",
    "        x = self.linear_relu_stack(x)\n",
    "        logits = self.decoder(x)\n",
    "        return logits"
   ]
  },
  {
   "cell_type": "code",
   "execution_count": 536,
   "metadata": {},
   "outputs": [],
   "source": [
    "def train_loop(dataloader, model, loss_fn, optimizer):\n",
    "    size = len(dataloader.dataset)\n",
    "    losses = []  # Collect losses for plotting\n",
    "    model.train()\n",
    "    for batch, (X, y) in enumerate(dataloader):\n",
    "        pred = model(X)\n",
    "        loss = loss_fn(pred, y)\n",
    "\n",
    "        loss.backward()\n",
    "        optimizer.step()\n",
    "        optimizer.zero_grad()\n",
    "\n",
    "        losses.append(loss.item())  # Append current loss to the list\n",
    "\n",
    "        if batch % 100 == 0:\n",
    "            loss, current = loss.item(), batch * len(X) + len(X)\n",
    "            print(f\"loss: {loss:>7f}  [{current:>5d}/{size:>5d}]\")\n",
    "    return np.log(losses)  # Return losses for plotting\n",
    "\n",
    "def test_loop(dataloader, model, loss_fn):\n",
    "    model.eval()\n",
    "    size = len(dataloader.dataset)\n",
    "    num_batches = len(dataloader)\n",
    "    test_loss, correct = 0, 0\n",
    "\n",
    "    with torch.no_grad():\n",
    "        for X, y in dataloader:\n",
    "            pred = model(X)\n",
    "            test_loss += loss_fn(pred, y).item()\n",
    "            correct += (pred.argmax(1) == y).type(torch.float).sum().item()\n",
    "\n",
    "    test_loss /= num_batches\n",
    "    correct /= size\n",
    "    print(f\"Test Error: \\n Accuracy: {(100*correct):>0.1f}%, Avg loss: {test_loss:>8f} \\n\")\n",
    "    return np.log(test_loss)"
   ]
  },
  {
   "cell_type": "code",
   "execution_count": 550,
   "metadata": {},
   "outputs": [
    {
     "data": {
      "text/plain": [
       "NeuralNetwork(\n",
       "  (encoder): Sequential(\n",
       "    (0): Linear(in_features=6016, out_features=10, bias=True)\n",
       "    (1): Tanh()\n",
       "  )\n",
       "  (flatten): Flatten(start_dim=1, end_dim=-1)\n",
       "  (linear_relu_stack): Sequential(\n",
       "    (0): Linear(in_features=120, out_features=128, bias=True)\n",
       "    (1): BatchNorm1d(128, eps=1e-05, momentum=0.1, affine=True, track_running_stats=True)\n",
       "    (2): ReLU()\n",
       "  )\n",
       "  (decoder): Linear(in_features=128, out_features=6016, bias=True)\n",
       ")"
      ]
     },
     "execution_count": 550,
     "metadata": {},
     "output_type": "execute_result"
    }
   ],
   "source": [
    "model = NeuralNetwork().to(device)\n",
    "model"
   ]
  },
  {
   "cell_type": "code",
   "execution_count": 551,
   "metadata": {},
   "outputs": [],
   "source": [
    "learning_rate = 1e-3"
   ]
  },
  {
   "cell_type": "code",
   "execution_count": 552,
   "metadata": {},
   "outputs": [
    {
     "name": "stdout",
     "output_type": "stream",
     "text": [
      "Epoch 1\n",
      "-------------------------------\n",
      "loss: 8.671246  [   32/11456]\n"
     ]
    },
    {
     "name": "stdout",
     "output_type": "stream",
     "text": [
      "loss: 4.827486  [ 3232/11456]\n",
      "loss: 5.272051  [ 6432/11456]\n",
      "loss: 4.747673  [ 9632/11456]\n",
      "Test Error: \n",
      " Accuracy: 41.3%, Avg loss: 4.090106 \n",
      "\n",
      "Epoch 2\n",
      "-------------------------------\n",
      "loss: 3.163520  [   32/11456]\n",
      "loss: 3.660388  [ 3232/11456]\n",
      "loss: 5.254979  [ 6432/11456]\n",
      "loss: 4.478780  [ 9632/11456]\n",
      "Test Error: \n",
      " Accuracy: 44.6%, Avg loss: 4.094521 \n",
      "\n",
      "Epoch 3\n",
      "-------------------------------\n",
      "loss: 4.025699  [   32/11456]\n",
      "loss: 3.150566  [ 3232/11456]\n",
      "loss: 2.543398  [ 6432/11456]\n",
      "loss: 4.617639  [ 9632/11456]\n",
      "Test Error: \n",
      " Accuracy: 45.3%, Avg loss: 4.008211 \n",
      "\n",
      "Epoch 4\n",
      "-------------------------------\n",
      "loss: 3.350636  [   32/11456]\n",
      "loss: 3.640456  [ 3232/11456]\n",
      "loss: 2.937209  [ 6432/11456]\n",
      "loss: 3.103831  [ 9632/11456]\n",
      "Test Error: \n",
      " Accuracy: 46.2%, Avg loss: 4.062879 \n",
      "\n",
      "Epoch 5\n",
      "-------------------------------\n",
      "loss: 3.009629  [   32/11456]\n",
      "loss: 1.912837  [ 3232/11456]\n",
      "loss: 2.466574  [ 6432/11456]\n",
      "loss: 2.600981  [ 9632/11456]\n",
      "Test Error: \n",
      " Accuracy: 46.2%, Avg loss: 4.398597 \n",
      "\n",
      "Epoch 6\n",
      "-------------------------------\n",
      "loss: 2.547595  [   32/11456]\n",
      "loss: 1.562305  [ 3232/11456]\n",
      "loss: 2.192204  [ 6432/11456]\n",
      "loss: 2.264012  [ 9632/11456]\n",
      "Test Error: \n",
      " Accuracy: 46.1%, Avg loss: 4.388084 \n",
      "\n",
      "Epoch 7\n",
      "-------------------------------\n",
      "loss: 2.608320  [   32/11456]\n",
      "loss: 2.630315  [ 3232/11456]\n",
      "loss: 2.640707  [ 6432/11456]\n",
      "loss: 2.160520  [ 9632/11456]\n",
      "Test Error: \n",
      " Accuracy: 46.2%, Avg loss: 4.780414 \n",
      "\n",
      "Epoch 8\n",
      "-------------------------------\n",
      "loss: 2.489186  [   32/11456]\n",
      "loss: 1.473933  [ 3232/11456]\n",
      "loss: 2.358449  [ 6432/11456]\n",
      "loss: 1.848480  [ 9632/11456]\n",
      "Test Error: \n",
      " Accuracy: 46.3%, Avg loss: 4.572942 \n",
      "\n",
      "Epoch 9\n",
      "-------------------------------\n",
      "loss: 1.584828  [   32/11456]\n",
      "loss: 1.986973  [ 3232/11456]\n",
      "loss: 0.961551  [ 6432/11456]\n",
      "loss: 1.595719  [ 9632/11456]\n",
      "Test Error: \n",
      " Accuracy: 46.3%, Avg loss: 4.653680 \n",
      "\n",
      "Epoch 10\n",
      "-------------------------------\n",
      "loss: 2.586708  [   32/11456]\n",
      "loss: 2.048469  [ 3232/11456]\n",
      "loss: 1.023257  [ 6432/11456]\n",
      "loss: 2.486908  [ 9632/11456]\n",
      "Test Error: \n",
      " Accuracy: 46.2%, Avg loss: 4.711296 \n",
      "\n",
      "Done!\n"
     ]
    }
   ],
   "source": [
    "loss_fn = nn.CrossEntropyLoss()\n",
    "optimizer = torch.optim.Adam(model.parameters(), lr=learning_rate)\n",
    "scheduler = torch.optim.lr_scheduler.StepLR(optimizer, step_size=7, gamma=0.1)  # Reduce LR by a factor of 0.1 every 5 epochs\n",
    "\n",
    "train_losses = []  # Collect training losses for plotting\n",
    "dev_losses = []    # Collect dev (validation) losses for plotting\n",
    "\n",
    "epochs = 10\n",
    "for t in range(epochs):\n",
    "    print(f\"Epoch {t+1}\\n-------------------------------\")\n",
    "    train_loss = train_loop(train_loader, model, loss_fn, optimizer)\n",
    "    dev_loss = test_loop(dev_loader, model, loss_fn)\n",
    "    train_losses.extend(train_loss)  # Extend train_losses list with losses from this epoch\n",
    "    dev_losses.append(dev_loss)      # Append dev_loss to dev_losses list\n",
    "    scheduler.step()  # Step the scheduler to update the learning rate\n",
    "\n",
    "print(\"Done!\")"
   ]
  },
  {
   "cell_type": "code",
   "execution_count": 553,
   "metadata": {},
   "outputs": [],
   "source": [
    "batches_per_epoch = len(train_loader)  # Total number of batches per epoch\n",
    "batch_step = batches_per_epoch // epochs  # Number of batches to process per epoch"
   ]
  },
  {
   "cell_type": "code",
   "execution_count": 554,
   "metadata": {},
   "outputs": [
    {
     "data": {
      "image/png": "[encoded data removed]",
      "text/plain": [
       "<Figure size 1000x500 with 1 Axes>"
      ]
     },
     "metadata": {},
     "output_type": "display_data"
    }
   ],
   "source": [
    "# Plot training and dev losses\n",
    "plt.figure(figsize=(10, 5))\n",
    "\n",
    "\n",
    "x = np.arange(0,epochs)*batches_per_epoch\n",
    "plt.plot(x, dev_losses, label='Dev Loss', color='orange')\n",
    "\n",
    "# plt.plot(np.arange(len(train_losses)), train_losses, label='Training Loss', color='blue',alpha=0.6)\n",
    "\n",
    "# Calculate moving average with window size\n",
    "moving_avg = torch.tensor(train_losses).view(-1,batches_per_epoch).mean(1)\n",
    "plt.plot(x, moving_avg, label=f'Moving Average (Window Size={batches_per_epoch} batchs per epoch)', color='red')\n",
    "\n",
    "\n",
    "plt.xlabel('Batch')\n",
    "plt.ylabel('Loss')\n",
    "plt.title('Training and Dev Losses')\n",
    "plt.legend()\n",
    "plt.show()"
   ]
  },
  {
   "cell_type": "code",
   "execution_count": 555,
   "metadata": {},
   "outputs": [
    {
     "name": "stdout",
     "output_type": "stream",
     "text": [
      "Test Error: \n",
      " Accuracy: 46.2%, Avg loss: 4.711296 \n",
      "\n"
     ]
    }
   ],
   "source": [
    "loss = test_loop(dev_loader, model, loss_fn)"
   ]
  },
  {
   "cell_type": "code",
   "execution_count": 556,
   "metadata": {},
   "outputs": [
    {
     "name": "stdout",
     "output_type": "stream",
     "text": [
      " Novo Horizonte - Ipatinga\n",
      " Divinópolis II - Angra dos\n",
      " Centro - Ipatinga\n",
      " Itaí Destinação Industrial - Carvde Minas\n",
      " Santa Maria - Jardim Belo Horizonte\n",
      " Bom Retiro - Ampére\n",
      " Honório Brasília - Belém\n",
      " Parque Cidade Luz - Maringá\n",
      " Coração Verde - Brusque\n",
      " Ideal - Taquara\n"
     ]
    }
   ],
   "source": [
    "def generate(context_,n = 10):\n",
    "    model.eval()\n",
    "    # Sample from the model\n",
    "    for _ in range(n):\n",
    "        out = []\n",
    "        context = context_ # initialize with all ...\n",
    "        while True:\n",
    "            # Move context tensor to the appropriate device\n",
    "            context_tensor = torch.tensor(context).to(device).reshape(-1, block_size)\n",
    "            \n",
    "            # Forward pass through the model\n",
    "            logits = model(context_tensor)\n",
    "            \n",
    "            # Apply softmax to logits to get probabilities\n",
    "            probs = nn.Softmax(dim=1)(logits).to(\"cpu\")\n",
    "            \n",
    "            # Generate a sample using multinomial sampling\n",
    "            ix = torch.multinomial(probs, num_samples=1).item()\n",
    "            \n",
    "            # Update context\n",
    "            context = context[1:] + [ix]\n",
    "            \n",
    "            # Append the sampled index to the output\n",
    "            out.append(ix)\n",
    "            \n",
    "            # If the sampled index is 0, break the loop\n",
    "            if ix == 0:\n",
    "                break\n",
    "        \n",
    "        # Print the sampled sequence\n",
    "        word = ' '.join(itos[i] for i in context_ if i) + \" \" + ' '.join(itos[i] for i in out[:-1])\n",
    "        word = word.replace(\". \",\"\")\n",
    "        print(word)\n",
    "\n",
    "context = [0] * block_size  # initialize with all ...\n",
    "generate(context)"
   ]
  },
  {
   "cell_type": "code",
   "execution_count": 557,
   "metadata": {},
   "outputs": [
    {
     "name": "stdout",
     "output_type": "stream",
     "text": [
      "Santa Terezinha - Forquilhinha\n",
      "Santa Terezinha - Campos dos Independência\n",
      "Santa Terezinha - 6 do Araguaia\n",
      "Santa Mônica - Bebedouro\n",
      "Santa Bárbara - Camaquã\n",
      "Santa Maria Bertila - Guiratinga\n",
      "Santa Mônica - Uberlândia\n",
      "Santa Luzia - Embu das Artes\n",
      "Santa Izabel - Jaguari\n",
      "Santa Mônica - Lages\n"
     ]
    }
   ],
   "source": [
    "context = [0] * block_size  # initialize with all ...\n",
    "context[-1] = stoi[\"Santa\"]\n",
    "generate(context)"
   ]
  },
  {
   "cell_type": "code",
   "execution_count": 558,
   "metadata": {},
   "outputs": [
    {
     "name": "stdout",
     "output_type": "stream",
     "text": [
      "Centro Novo de Barros - Bebedouro\n",
      "Centro - Itanhaém\n",
      "Centro - Nova Mamoré\n",
      "Centro - Navegantes\n",
      "Centro - Vitória\n",
      "Centro - Parintins\n",
      "Centro - Chapada\n",
      "Centro - Itacoatiara\n",
      "Centro - Orleans\n",
      "Centro - Campina Grande\n"
     ]
    }
   ],
   "source": [
    "context = [0] * block_size  # initialize with all ...\n",
    "context[-1] = stoi[\"Centro\"]\n",
    "generate(context)"
   ]
  },
  {
   "cell_type": "code",
   "execution_count": 559,
   "metadata": {},
   "outputs": [
    {
     "name": "stdout",
     "output_type": "stream",
     "text": [
      "Vila do Maria - Piripiri\n",
      "Vila do Prado - Taquara\n",
      "Vila do Paz - Belo Horizonte\n",
      "Vila do Arroio Santana - Joinville\n"
     ]
    },
    {
     "name": "stdout",
     "output_type": "stream",
     "text": [
      "Vila do Maria - Belo Horizonte\n",
      "Vila do Jardim III - Sinop\n",
      "Vila do Rio - Campo Grande\n",
      "Vila do São Francisco - Barra do Piraí\n",
      "Vila do Glória - Ituiutaba\n",
      "Vila do Cabral - Caucaia\n"
     ]
    }
   ],
   "source": [
    "context = [0] * block_size  # initialize with all ...\n",
    "context[-2] = stoi[\"Vila\"]\n",
    "context[-1] = stoi[\"do\"]\n",
    "generate(context)"
   ]
  },
  {
   "cell_type": "code",
   "execution_count": 560,
   "metadata": {},
   "outputs": [],
   "source": [
    "from sklearn.manifold import TSNE\n",
    "\n",
    "# Set your model to evaluation mode\n",
    "model.eval()\n",
    "\n",
    "# Initialize lists to store embeddings and corresponding labels\n",
    "embeddings = []\n",
    "labels = []\n",
    "\n",
    "# Iterate through the data loader to obtain embeddings and labels\n",
    "for data, target in dev_loader:\n",
    "    # Forward pass through the model to obtain embeddings\n",
    "    with torch.no_grad():\n",
    "        x = torch.nn.functional.one_hot(data, num_classes=model.encoder[0].in_features).float()\n",
    "        x = model.encoder(x)\n",
    "        x = x.view(x.shape[0],-1)\n",
    "    embeddings.append(x.cpu())\n",
    "    labels.append(target.cpu())\n",
    "\n",
    "# Concatenate embeddings and labels\n",
    "embeddings = np.concatenate(embeddings)\n",
    "labels = np.concatenate(labels)\n",
    "\n",
    "# Reduce dimensionality using t-SNE\n",
    "tsne = TSNE(n_components=2, random_state=42)\n",
    "embeddings_2d = tsne.fit_transform(embeddings)"
   ]
  },
  {
   "cell_type": "code",
   "execution_count": 561,
   "metadata": {},
   "outputs": [
    {
     "data": {
      "image/png": "[encoded data removed]",
      "text/plain": [
       "<Figure size 1000x800 with 1 Axes>"
      ]
     },
     "metadata": {},
     "output_type": "display_data"
    }
   ],
   "source": [
    "# Plot the embeddings\n",
    "plt.figure(figsize=(10, 8))\n",
    "\n",
    "from collections import Counter\n",
    "c = Counter(labels)\n",
    "\n",
    "i_special_words = [i[0] for i in c.most_common(2)]\n",
    "\n",
    "# i_special_words = [stoi[i] for i in special_words]\n",
    "for i in i_special_words:\n",
    "    plt.scatter(embeddings_2d[labels == i, 0], embeddings_2d[labels == i, 1], label=f'Label {itos[i]}', marker='.')\n",
    "\n",
    "\n",
    "idx = ~np.isin(labels, i_special_words)\n",
    "plt.scatter(embeddings_2d[idx, 0], embeddings_2d[idx, 1], label='Label (Others)', marker='.')\n",
    "\n",
    "\n",
    "\n",
    "# Assuming embeddings_2d and labels are NumPy arrays\n",
    "label_0_mean_x = embeddings_2d[labels == 19, 0].mean()\n",
    "label_0_mean_y = embeddings_2d[labels == 19, 1].mean()\n",
    "\n",
    "plt.annotate('Sep Char Mean', \n",
    "             xy=(label_0_mean_x, label_0_mean_y), \n",
    "             xytext=(label_0_mean_x + 0.1, label_0_mean_y + 0.1),\n",
    "             arrowprops=dict(facecolor='black', arrowstyle='->'),\n",
    "             fontsize=10,\n",
    "            #  fontstyle='italic',\n",
    "             fontweight='bold')\n",
    "\n",
    "\n",
    "# Assuming embeddings_2d and labels are NumPy arrays\n",
    "label_0_mean_x = embeddings_2d[labels == 0, 0].mean()\n",
    "label_0_mean_y = embeddings_2d[labels == 0, 1].mean()\n",
    "\n",
    "plt.annotate('Starting Char Mean', \n",
    "             xy=(label_0_mean_x, label_0_mean_y), \n",
    "             xytext=(label_0_mean_x + 0.1, label_0_mean_y + 0.1),\n",
    "             arrowprops=dict(facecolor='black', arrowstyle='->'),\n",
    "             fontsize=10,\n",
    "            #  fontstyle='italic',\n",
    "             fontweight='bold')\n",
    "\n",
    "plt.legend()\n",
    "plt.title('t-SNE Visualization of Embeddings')\n",
    "plt.xlabel('t-SNE Dimension 1')\n",
    "plt.ylabel('t-SNE Dimension 2')\n",
    "plt.show()"
   ]
  },
  {
   "cell_type": "code",
   "execution_count": 562,
   "metadata": {},
   "outputs": [],
   "source": [
    "path = 'models/MPL01.pth'\n",
    "torch.save(model.state_dict(), path)"
   ]
  }
 ],
 "metadata": {
  "kernelspec": {
   "display_name": "name_generator",
   "language": "python",
   "name": "python3"
  },
  "language_info": {
   "codemirror_mode": {
    "name": "ipython",
    "version": 3
   },
   "file_extension": ".py",
   "mimetype": "text/x-python",
   "name": "python",
   "nbconvert_exporter": "python",
   "pygments_lexer": "ipython3",
   "version": "3.12.2"
  }
 },
 "nbformat": 4,
 "nbformat_minor": 2
}
